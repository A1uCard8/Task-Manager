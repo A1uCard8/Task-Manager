{
 "cells": [
  {
   "cell_type": "markdown",
   "metadata": {},
   "source": [
    "### Description\n",
    "My MVP works as a basic task and time management application. It's main function is to organize a to do list in the most effective way to improve time management. The application will be able to do basic arithmetic to perform useful statistical analysis of the tasks and timing. "
   ]
  },
  {
   "cell_type": "markdown",
   "metadata": {},
   "source": [
    "--------- "
   ]
  },
  {
   "cell_type": "code",
   "execution_count": 143,
   "metadata": {},
   "outputs": [],
   "source": [
    "#Import Packages \n",
    "import math #Used for calculations\n",
    "from tabulate import tabulate #Used to store data in an organized and clean table "
   ]
  },
  {
   "cell_type": "code",
   "execution_count": 140,
   "metadata": {},
   "outputs": [],
   "source": [
    "#Define functions here\n",
    "\n",
    "#Function for inputting the data for each task. \n",
    "def add_task(tasks):\n",
    "    name = input(\"Enter task name: \")\n",
    "    desc = input(\"Enter task description: \")\n",
    "    deadline = input(\"Enter deadline (DD/MM): \")\n",
    "    et= input(\"Enter estimate time to complete (hours): \")\n",
    "    tasks.append({\"Name\": name, \"Description\": desc, \"Deadline\": deadline, \"Estimate Time\": et})\n",
    "    print(\"Task added successfully.\")\n",
    "\n",
    "#Function for editing the tasks that are already in the table, basically just a refresh of the item. \n",
    "def edit_task(tasks):\n",
    "    display_tasks(tasks)\n",
    "    task_index = int(input(\"Enter index of task to edit: \")) - 1\n",
    "    if 0 <= task_index < len(tasks):\n",
    "        name = input(\"Enter new task name: \")\n",
    "        desc = input(\"Enter new task description: \")\n",
    "        deadline = input(\"Enter new deadline (DD/MM): \")\n",
    "        et=input(\"Enter new estimate time to complete (hours): \")\n",
    "        tasks[task_index] = {\"Name\": name, \"Description\": desc, \"Deadline\": deadline, \"Estimate Time\": et}\n",
    "        print(\"Task edited successfully.\")\n",
    "    else:\n",
    "        print(\"Invalid task index.\")\n",
    "\n",
    "#Function for deleting the tasks in the table. \n",
    "def delete_task(tasks):\n",
    "    display_tasks(tasks)\n",
    "    task_index = int(input(\"Enter index of task to delete: \")) - 1\n",
    "    if 0 <= task_index < len(tasks):\n",
    "        del tasks[task_index]\n",
    "        print(\"Task deleted successfully.\")\n",
    "    else:\n",
    "        print(\"Invalid task index.\")\n",
    "\n",
    "#Function resposible for displaying the table in a neat and compact form using the tabulate package.\n",
    "def display_tasks(tasks):\n",
    "    if tasks:\n",
    "        headers = [\"Index\", \"Task Name\", \"Description\", \"Deadline\", \"Estimate Time\"]\n",
    "        data = [(i + 1, task[\"Name\"], task[\"Description\"], task[\"Deadline\"], task[\"Estimate Time\"]) for i, task in enumerate(tasks)]\n",
    "        print(tabulate(data, headers=headers, tablefmt=\"grid\"))\n",
    "    else:\n",
    "        print(\"No tasks in the to-do list.\")\n",
    "\n",
    "#Function for performing statistical analysis on the data in the table, more specific descriptions can be found in the function def itself.\n",
    "def statistical_analysis(tasks):\n",
    "    if not tasks:\n",
    "        print(\"No tasks found.\")\n",
    "        return\n",
    "    #Sum of all hours of all tasks\n",
    "    total_hours = sum(float(task[\"Estimate Time\"]) for task in tasks)\n",
    "    #Mean of all hours of all tasks\n",
    "    average_time = total_hours / len(tasks)\n",
    "    #Task that takes the least amount of time\n",
    "    min_time = min(float(task[\"Estimate Time\"]) for task in tasks)\n",
    "    #Task that takes the most amount of time\n",
    "    max_time = max(float(task[\"Estimate Time\"]) for task in tasks)\n",
    "    #Calculate how many hours you have left in the day after all tasks\n",
    "    total_subtraction = 24 - float(total_hours)\n",
    "    #Calculate how many hours your tasks will take throughout the work week\n",
    "    total_multiplication = 5 * float(total_hours)\n",
    "    #Check how many times you can do all of your tasks in a day\n",
    "    total_division = 24/float(total_hours)\n",
    "\n",
    "    #Still part of the same funciton, here we are printing out all of the statistical analysis. \n",
    "    print(\"Statistical Analysis:\")\n",
    "    print(\"Total hours of all tasks:\", total_hours)\n",
    "    print(\"Average time of all tasks:\", average_time)\n",
    "    print(\"Shortest task time:\", min_time)\n",
    "    print(\"Longest task time:\", max_time)\n",
    "    print(\"Total subtraction of task times:\", total_subtraction)\n",
    "    print(\"Total multiplication of task times:\", total_multiplication)\n",
    "    print(\"Total division of task times:\", total_division)\n",
    "\n",
    "#Function for addting together two task times. \n",
    "def add_task_times(tasks):\n",
    "    display_tasks(tasks)\n",
    "    time1= input (\"Enter the time of the first task: \")\n",
    "    time2= input (\"Enter the time of the second task: \")\n",
    "    add=float(time1) + float(time2)\n",
    "    print (add)\n",
    "    \n",
    "#Function for creating the initial list of tasks as well as defining what the main menu of the application will appear as. \n",
    "def main():\n",
    "    tasks = [\n",
    "#Some initial fake data\n",
    "    {\"Name\": \"Homework\", \"Description\": \"GEOG MVP, linguistics one pager\", \"Deadline\": \"02/20\",\"Estimate Time\":5},\n",
    "    {\"Name\": \"Lunch\", \"Description\" : \"Salmon and Rice\",\"Deadline\": \"02/21\", \"Estimate Time\": 1.5}]     \n",
    "    \n",
    "#Main Interface\n",
    "    while True:\n",
    "        print(\"\\n1. Add Task\")\n",
    "        print(\"2. Edit Task\")\n",
    "        print(\"3. Delete Task\")\n",
    "        print(\"4. Display Tasks\")\n",
    "        print(\"5. Statistical Analysis\")\n",
    "        print(\"6. Add Task Times\")\n",
    "        print(\"7. Exit\")\n",
    "\n",
    "        choice = input(\"Enter your choice: \")\n",
    "#Code for the selection of what function\n",
    "        if choice == \"1\":\n",
    "            add_task(tasks)\n",
    "        elif choice == \"2\":\n",
    "            edit_task(tasks)\n",
    "        elif choice == \"3\":\n",
    "            delete_task(tasks)\n",
    "        elif choice == \"4\":\n",
    "            #This sorts the tasks in the table with the most time consuming tasks populating at the top. The key takes the time info from each task and the reverse=True sorts the tasks in descending order.\n",
    "            display_tasks(sorted(tasks, key=lambda x: float(x[\"Estimate Time\"]), reverse=True))\n",
    "        elif choice == \"5\":\n",
    "            statistical_analysis(tasks)\n",
    "        elif choice == \"6\":\n",
    "            add_task_times(tasks)\n",
    "        elif choice == \"7\":\n",
    "            print(\"Exiting...\")\n",
    "            break\n",
    "        #any other number and the system won't work per this error message\n",
    "        else:\n",
    "            print(\"Invalid choice. Please try again.\")\n"
   ]
  },
  {
   "cell_type": "code",
   "execution_count": 142,
   "metadata": {},
   "outputs": [
    {
     "name": "stdout",
     "output_type": "stream",
     "text": [
      "\n",
      "1. Add Task\n",
      "2. Edit Task\n",
      "3. Delete Task\n",
      "4. Display Tasks\n",
      "5. Statistical Analysis\n",
      "6. Add Task Times\n",
      "7. Exit\n"
     ]
    },
    {
     "name": "stdout",
     "output_type": "stream",
     "text": [
      "Enter your choice:  7\n"
     ]
    },
    {
     "name": "stdout",
     "output_type": "stream",
     "text": [
      "Exiting...\n"
     ]
    }
   ],
   "source": [
    "# MVP Code Cell 1\n",
    "#Here we are running main which the main function and it brings up our menu so we can utilize our various functions. You can test out all of the funcitons in this one code cell!\n",
    "main()"
   ]
  }
 ],
 "metadata": {
  "kernelspec": {
   "display_name": "Python 3 (ipykernel)",
   "language": "python",
   "name": "python3"
  },
  "language_info": {
   "codemirror_mode": {
    "name": "ipython",
    "version": 3
   },
   "file_extension": ".py",
   "mimetype": "text/x-python",
   "name": "python",
   "nbconvert_exporter": "python",
   "pygments_lexer": "ipython3",
   "version": "3.9.7"
  }
 },
 "nbformat": 4,
 "nbformat_minor": 4
}
